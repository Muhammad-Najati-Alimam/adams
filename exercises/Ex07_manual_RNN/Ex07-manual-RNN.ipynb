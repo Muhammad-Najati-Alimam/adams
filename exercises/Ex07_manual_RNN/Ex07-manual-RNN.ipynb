{
 "cells": [
  {
   "cell_type": "markdown",
   "metadata": {},
   "source": [
    "[![Open In Colab](https://colab.research.google.com/assets/colab-badge.svg)](https://colab.research.google.com/github/Humboldt-WI/adams/blob/master/exercises/Ex07_manual_RNN/Ex07-manual-RNN.ipynb) "
   ]
  },
  {
   "cell_type": "code",
   "execution_count": 1,
   "metadata": {},
   "outputs": [],
   "source": [
    "# Setting up the environment\n",
    "import pandas as pd\n",
    "import numpy as np\n",
    "import matplotlib.pyplot as plt\n",
    "\n",
    "from scipy.special import expit as sigmoid\n",
    "\n",
    "# Make Jupyter output multiple results without explicit print statements (see https://www.dataquest.io/blog/jupyter-notebook-tips-tricks-shortcuts/)\n",
    "from IPython.core.interactiveshell import InteractiveShell\n",
    "InteractiveShell.ast_node_interactivity = \"all\""
   ]
  },
  {
   "cell_type": "markdown",
   "metadata": {},
   "source": [
    "# Recurrent Neural Networks"
   ]
  },
  {
   "cell_type": "markdown",
   "metadata": {},
   "source": [
    "We are now entering a whole different realm. Data is no longer frozen in time, no longer IID -  the temporal fluctuations of our variables are now in the center of attention. Additionally, we can no longer fool around shuffling and sampling our data, as the time order matters - it will be reflecting the actual flow of change. This is a substantial change to how we think about a modeling task. Those of you who dealt with panel data and time series might already be familiar with approaches to handle sequential data. Either way, revisiting  autoregressive models might be a good idea. \n",
    "Fortunately, dealing with time series data requires no fundamental change to the training algorithms we've learned until now. Building on top of what we know, we will see how we can improve our model architectures to fit some specific issues. "
   ]
  },
  {
   "cell_type": "markdown",
   "metadata": {},
   "source": [
    "We will be focusing on the task of figuring out  $p(x_{t}|x_{t−1},…x_{1}) $, where $t$ specifies the order of observations. The order could be implied by time (what is the value of x in the future, given the past values of x) or syntax (what's the next word in a sentence starting with words x,y and z).\n",
    "\n",
    "Today we will see how RNNs accommodate this task.\n",
    "\n",
    "**Outline**\n",
    "1. Sequential data\n",
    "2. Recurrent cells and networks\n",
    "3. Long short-term memory"
   ]
  },
  {
   "cell_type": "markdown",
   "metadata": {},
   "source": [
    "## 1. Sequential data\n",
    "We discuss some of the peculiarities of sequential data and how to address them during data preparation. Our use case will be stock market data. \n",
    "\n",
    "### Load the data\n",
    "Financial data (at a daily level) is publicly available online. The data for this tutorial was downloaded from [Yahoo finance](https://finance.yahoo.com/quote/AMZN/history?p=AMZN) but many other sources exist. You can download the data yourself to benefit from the most recent set of data or simply use the data set from Moodle. Clearly, you can also change the subject of analysis. We look at Amazon stock prices but any other stock - or time series - will do."
   ]
  },
  {
   "cell_type": "code",
   "execution_count": 12,
   "metadata": {},
   "outputs": [
    {
     "data": {
      "text/html": [
       "<div>\n",
       "<style scoped>\n",
       "    .dataframe tbody tr th:only-of-type {\n",
       "        vertical-align: middle;\n",
       "    }\n",
       "\n",
       "    .dataframe tbody tr th {\n",
       "        vertical-align: top;\n",
       "    }\n",
       "\n",
       "    .dataframe thead th {\n",
       "        text-align: right;\n",
       "    }\n",
       "</style>\n",
       "<table border=\"1\" class=\"dataframe\">\n",
       "  <thead>\n",
       "    <tr style=\"text-align: right;\">\n",
       "      <th></th>\n",
       "      <th>Open</th>\n",
       "      <th>High</th>\n",
       "      <th>Low</th>\n",
       "      <th>Close</th>\n",
       "      <th>Adj Close</th>\n",
       "      <th>Volume</th>\n",
       "    </tr>\n",
       "    <tr>\n",
       "      <th>Date</th>\n",
       "      <th></th>\n",
       "      <th></th>\n",
       "      <th></th>\n",
       "      <th></th>\n",
       "      <th></th>\n",
       "      <th></th>\n",
       "    </tr>\n",
       "  </thead>\n",
       "  <tbody>\n",
       "    <tr>\n",
       "      <th>2020-03-24</th>\n",
       "      <td>1951.500000</td>\n",
       "      <td>1955.000000</td>\n",
       "      <td>1900.339966</td>\n",
       "      <td>1940.099976</td>\n",
       "      <td>1940.099976</td>\n",
       "      <td>7147100</td>\n",
       "    </tr>\n",
       "    <tr>\n",
       "      <th>2020-03-25</th>\n",
       "      <td>1920.689941</td>\n",
       "      <td>1950.260010</td>\n",
       "      <td>1885.780029</td>\n",
       "      <td>1885.839966</td>\n",
       "      <td>1885.839966</td>\n",
       "      <td>6479100</td>\n",
       "    </tr>\n",
       "    <tr>\n",
       "      <th>2020-03-26</th>\n",
       "      <td>1902.000000</td>\n",
       "      <td>1956.489990</td>\n",
       "      <td>1889.290039</td>\n",
       "      <td>1955.489990</td>\n",
       "      <td>1955.489990</td>\n",
       "      <td>6221300</td>\n",
       "    </tr>\n",
       "    <tr>\n",
       "      <th>2020-03-27</th>\n",
       "      <td>1930.859985</td>\n",
       "      <td>1939.790039</td>\n",
       "      <td>1899.920044</td>\n",
       "      <td>1900.099976</td>\n",
       "      <td>1900.099976</td>\n",
       "      <td>5387900</td>\n",
       "    </tr>\n",
       "    <tr>\n",
       "      <th>2020-03-30</th>\n",
       "      <td>1922.829956</td>\n",
       "      <td>1973.630005</td>\n",
       "      <td>1912.339966</td>\n",
       "      <td>1963.949951</td>\n",
       "      <td>1963.949951</td>\n",
       "      <td>6115100</td>\n",
       "    </tr>\n",
       "  </tbody>\n",
       "</table>\n",
       "</div>"
      ],
      "text/plain": [
       "                   Open         High          Low        Close    Adj Close  \\\n",
       "Date                                                                          \n",
       "2020-03-24  1951.500000  1955.000000  1900.339966  1940.099976  1940.099976   \n",
       "2020-03-25  1920.689941  1950.260010  1885.780029  1885.839966  1885.839966   \n",
       "2020-03-26  1902.000000  1956.489990  1889.290039  1955.489990  1955.489990   \n",
       "2020-03-27  1930.859985  1939.790039  1899.920044  1900.099976  1900.099976   \n",
       "2020-03-30  1922.829956  1973.630005  1912.339966  1963.949951  1963.949951   \n",
       "\n",
       "             Volume  \n",
       "Date                 \n",
       "2020-03-24  7147100  \n",
       "2020-03-25  6479100  \n",
       "2020-03-26  6221300  \n",
       "2020-03-27  5387900  \n",
       "2020-03-30  6115100  "
      ]
     },
     "execution_count": 12,
     "metadata": {},
     "output_type": "execute_result"
    }
   ],
   "source": [
    "data = pd.read_csv('../../data/AMZN.csv')\n",
    "data.set_index('Date', inplace=True)  # This is the first time we deal with time series data. Using the date as index is useful for subsetting\n",
    "data.tail(5)"
   ]
  },
  {
   "cell_type": "code",
   "execution_count": 13,
   "metadata": {},
   "outputs": [
    {
     "data": {
      "text/html": [
       "<div>\n",
       "<style scoped>\n",
       "    .dataframe tbody tr th:only-of-type {\n",
       "        vertical-align: middle;\n",
       "    }\n",
       "\n",
       "    .dataframe tbody tr th {\n",
       "        vertical-align: top;\n",
       "    }\n",
       "\n",
       "    .dataframe thead th {\n",
       "        text-align: right;\n",
       "    }\n",
       "</style>\n",
       "<table border=\"1\" class=\"dataframe\">\n",
       "  <thead>\n",
       "    <tr style=\"text-align: right;\">\n",
       "      <th></th>\n",
       "      <th>Price</th>\n",
       "    </tr>\n",
       "    <tr>\n",
       "      <th>Date</th>\n",
       "      <th></th>\n",
       "    </tr>\n",
       "  </thead>\n",
       "  <tbody>\n",
       "    <tr>\n",
       "      <th>2020-03-24</th>\n",
       "      <td>1940.099976</td>\n",
       "    </tr>\n",
       "    <tr>\n",
       "      <th>2020-03-25</th>\n",
       "      <td>1885.839966</td>\n",
       "    </tr>\n",
       "    <tr>\n",
       "      <th>2020-03-26</th>\n",
       "      <td>1955.489990</td>\n",
       "    </tr>\n",
       "    <tr>\n",
       "      <th>2020-03-27</th>\n",
       "      <td>1900.099976</td>\n",
       "    </tr>\n",
       "    <tr>\n",
       "      <th>2020-03-30</th>\n",
       "      <td>1963.949951</td>\n",
       "    </tr>\n",
       "  </tbody>\n",
       "</table>\n",
       "</div>"
      ],
      "text/plain": [
       "                  Price\n",
       "Date                   \n",
       "2020-03-24  1940.099976\n",
       "2020-03-25  1885.839966\n",
       "2020-03-26  1955.489990\n",
       "2020-03-27  1900.099976\n",
       "2020-03-30  1963.949951"
      ]
     },
     "execution_count": 13,
     "metadata": {},
     "output_type": "execute_result"
    }
   ],
   "source": [
    "# We only need the adjusted closing price\n",
    "data.drop(['Open', 'High', 'Low', 'Close', 'Volume'], axis=1, inplace=True)\n",
    "data.columns = ['Price']\n",
    "data.tail()"
   ]
  },
  {
   "cell_type": "code",
   "execution_count": 6,
   "metadata": {},
   "outputs": [
    {
     "data": {
      "text/plain": [
       "(2769, 1)"
      ]
     },
     "execution_count": 6,
     "metadata": {},
     "output_type": "execute_result"
    }
   ],
   "source": [
    "data.shape"
   ]
  },
  {
   "cell_type": "code",
   "execution_count": 7,
   "metadata": {},
   "outputs": [
    {
     "data": {
      "text/plain": [
       "array(['2009-03-31', '2009-04-01', '2009-04-02', ..., '2020-03-26',\n",
       "       '2020-03-27', '2020-03-30'], dtype=object)"
      ]
     },
     "execution_count": 7,
     "metadata": {},
     "output_type": "execute_result"
    }
   ],
   "source": [
    "data.index.values"
   ]
  },
  {
   "cell_type": "code",
   "execution_count": 10,
   "metadata": {},
   "outputs": [
    {
     "data": {
      "image/png": "[encoded data removed]",
      "text/plain": [
       "<Figure size 432x288 with 1 Axes>"
      ]
     },
     "metadata": {
      "needs_background": "light"
     },
     "output_type": "display_data"
    }
   ],
   "source": [
    "plt.plot(data[\"Price\"].values)\n",
    "plt.show();"
   ]
  },
  {
   "cell_type": "markdown",
   "metadata": {},
   "source": [
    "### Preparing sequential data\n",
    "Let's try to see what RNN can do with some financial data. We take the stock price of Amazon for the past 2 years from Yahoo Finance. \n",
    "We will ignore other available information, like the stock price of other e-commerce companies or tax rates in Ireland. Our data is thus a single variable, the stock price. While we move through time, we predict the price in the next period based on the previous periods' prices. We then move one period ahead and the actual price of last period becomes a new observation. \n",
    "\n",
    "$$ \n",
    "\\widehat{price_t} = f(price_{t-1},price_{t-2},price_{t-3},price_{t-4},\\ldots) \n",
    "$$"
   ]
  },
  {
   "cell_type": "markdown",
   "metadata": {},
   "source": [
    "<img src=\"time_series_structure.png\" style=\"width: 800px;\"/>\n",
    "\n",
    "Source: https://humboldt-wi.github.io/blog/research/information_systems_1819/02lstmgruandbeyond/"
   ]
  },
  {
   "cell_type": "markdown",
   "metadata": {},
   "source": [
    "We can see a clear trend in the data of the share price increasing over time. That's easy for our model to pick up and not very informative, so we better standardize the mean price over time. Instead of the overall price, we will predict the price difference from today to tomorrow's closing price. \n",
    "Pandas knows a the function *.shift()*. Have a look at its documentation. This function is what we need to calculate price differences."
   ]
  },
  {
   "cell_type": "code",
   "execution_count": 14,
   "metadata": {},
   "outputs": [],
   "source": [
    "data[\"Price\"] = (data[\"Price\"] - data[\"Price\"].shift(1))"
   ]
  },
  {
   "cell_type": "code",
   "execution_count": 15,
   "metadata": {},
   "outputs": [
    {
     "data": {
      "text/html": [
       "<div>\n",
       "<style scoped>\n",
       "    .dataframe tbody tr th:only-of-type {\n",
       "        vertical-align: middle;\n",
       "    }\n",
       "\n",
       "    .dataframe tbody tr th {\n",
       "        vertical-align: top;\n",
       "    }\n",
       "\n",
       "    .dataframe thead th {\n",
       "        text-align: right;\n",
       "    }\n",
       "</style>\n",
       "<table border=\"1\" class=\"dataframe\">\n",
       "  <thead>\n",
       "    <tr style=\"text-align: right;\">\n",
       "      <th></th>\n",
       "      <th>Price</th>\n",
       "    </tr>\n",
       "    <tr>\n",
       "      <th>Date</th>\n",
       "      <th></th>\n",
       "    </tr>\n",
       "  </thead>\n",
       "  <tbody>\n",
       "    <tr>\n",
       "      <th>2009-03-31</th>\n",
       "      <td>NaN</td>\n",
       "    </tr>\n",
       "    <tr>\n",
       "      <th>2009-04-01</th>\n",
       "      <td>0.059998</td>\n",
       "    </tr>\n",
       "    <tr>\n",
       "      <th>2009-04-02</th>\n",
       "      <td>2.839996</td>\n",
       "    </tr>\n",
       "  </tbody>\n",
       "</table>\n",
       "</div>"
      ],
      "text/plain": [
       "               Price\n",
       "Date                \n",
       "2009-03-31       NaN\n",
       "2009-04-01  0.059998\n",
       "2009-04-02  2.839996"
      ]
     },
     "execution_count": 15,
     "metadata": {},
     "output_type": "execute_result"
    }
   ],
   "source": [
    "# The previous shift causes the first entry in our dataframe to be NaN\n",
    "data.head(3)"
   ]
  },
  {
   "cell_type": "code",
   "execution_count": 16,
   "metadata": {},
   "outputs": [
    {
     "name": "stdout",
     "output_type": "stream",
     "text": [
      "Original dimension: 2769x1\n",
      "New dimension: 2768x1\n"
     ]
    }
   ],
   "source": [
    "# Make sure you understand where the NaN value is coming from\n",
    "# To get rid of it, we discard the first entry\n",
    "print('Original dimension: ' + 'x'.join(map(str,data.shape)))\n",
    "data = data.iloc[1:,:]\n",
    "print('New dimension: ' + 'x'.join(map(str,data.shape)))"
   ]
  },
  {
   "cell_type": "code",
   "execution_count": 19,
   "metadata": {},
   "outputs": [
    {
     "data": {
      "image/png": "[encoded data removed]",
      "text/plain": [
       "<Figure size 432x288 with 1 Axes>"
      ]
     },
     "metadata": {
      "needs_background": "light"
     },
     "output_type": "display_data"
    }
   ],
   "source": [
    "# Plot series of price differences (i.e., returns)\n",
    "plt.plot(data.Price.values)\n",
    "plt.show();"
   ]
  },
  {
   "cell_type": "markdown",
   "metadata": {},
   "source": [
    "There is more preprocessing we could/should do. We'll refer to one of the excellent classes on time-series forecasting at the faculty instead. "
   ]
  },
  {
   "cell_type": "markdown",
   "metadata": {},
   "source": [
    "To evaluate the model and potential overfitting, we want a train/test split. \n",
    "Remember that our observations have a time structure now - no shuffling, strictly use observations from the future for testing! With that in mind, there really is no need to involve scikit-learn for data organization."
   ]
  },
  {
   "cell_type": "code",
   "execution_count": 21,
   "metadata": {},
   "outputs": [],
   "source": [
    "train_size  = int(len(data) * 0.80)\n",
    "test_size   = len(data) - train_size\n",
    "train, test = data[:train_size], data[train_size:]"
   ]
  },
  {
   "cell_type": "markdown",
   "metadata": {},
   "source": [
    "We will apply the usual preprocessing to standardize the input data. "
   ]
  },
  {
   "cell_type": "code",
   "execution_count": 22,
   "metadata": {},
   "outputs": [],
   "source": [
    "#Data preparation (can be skipped)\n",
    "\n",
    "# Convert data to numpy array.\n",
    "# The conversion will alter the dimension. We redo this with the rescaling \n",
    "train = train[\"Price\"].to_numpy().reshape([-1,1]) # note that the -1 means that the dimension of the axis will be inferred from the data\n",
    "test = test[\"Price\"].to_numpy().reshape([-1,1]) # in plain English, it is equivalent to inputting the number of rows (i.e., train_size) as argument\n",
    "from sklearn.preprocessing import MinMaxScaler\n",
    "#Standardize the values to a range from zero to 1\n",
    "#Note the proper application of the scaler: fitting parameters on train and apply these to test\n",
    "scaler = MinMaxScaler()\n",
    "train  = scaler.fit_transform(train)\n",
    "test   = scaler.transform(test)"
   ]
  },
  {
   "cell_type": "code",
   "execution_count": 24,
   "metadata": {},
   "outputs": [
    {
     "data": {
      "image/png": "[encoded data removed]",
      "text/plain": [
       "<Figure size 432x288 with 1 Axes>"
      ]
     },
     "metadata": {
      "needs_background": "light"
     },
     "output_type": "display_data"
    },
    {
     "data": {
      "image/png": "[encoded data removed]",
      "text/plain": [
       "<Figure size 432x288 with 1 Axes>"
      ]
     },
     "metadata": {
      "needs_background": "light"
     },
     "output_type": "display_data"
    }
   ],
   "source": [
    "plt.ylim([-0.25,1])\n",
    "plt.plot(train)\n",
    "plt.show()  ;\n",
    "\n",
    "plt.ylim([-0.25,1])\n",
    "plt.plot(test)\n",
    "plt.show();"
   ]
  },
  {
   "cell_type": "code",
   "execution_count": 26,
   "metadata": {},
   "outputs": [
    {
     "data": {
      "text/plain": [
       "array([[0.27370381],\n",
       "       [0.28942156],\n",
       "       [0.28371118],\n",
       "       ...,\n",
       "       [0.39972918],\n",
       "       [0.43461244],\n",
       "       [0.27144246]])"
      ]
     },
     "execution_count": 26,
     "metadata": {},
     "output_type": "execute_result"
    }
   ],
   "source": [
    "train"
   ]
  },
  {
   "cell_type": "markdown",
   "metadata": {},
   "source": [
    "The data is almost ready for developing a forecasting model. What is missing? \n",
    "Remeber we are tryting to build an autoregressive model, which uses past realizations of the target variable as input.\n",
    "So the following bits help us create the input data structure for such a model."
   ]
  },
  {
   "cell_type": "code",
   "execution_count": 27,
   "metadata": {},
   "outputs": [],
   "source": [
    "def create_dataset(time_series, window_size):\n",
    "    \"\"\" Function to create data set with lagged response values for estimating an autoregressive model\"\"\"\n",
    "    dataX, dataY = [], []\n",
    "    \n",
    "    for i in range(0,len(time_series) - window_size - 1):\n",
    "        x = time_series[i:i + window_size] # Remember: x[a:b-1]\n",
    "        dataX.append(x)\n",
    "        y = time_series[i + window_size] # Remember: x[b]\n",
    "        dataY.append(y)\n",
    "           \n",
    "    return np.array(dataX), np.array(dataY)"
   ]
  },
  {
   "cell_type": "code",
   "execution_count": 33,
   "metadata": {},
   "outputs": [
    {
     "name": "stdout",
     "output_type": "stream",
     "text": [
      "(2191, 22, 1)\n",
      "(2191, 1)\n"
     ]
    }
   ],
   "source": [
    "WINDOW_SIZE=22\n",
    "\n",
    "X_train, y_train  = create_dataset(train, WINDOW_SIZE)\n",
    "X_test, y_test   = create_dataset(test, WINDOW_SIZE)\n",
    "print (X_train.shape)\n",
    "print (y_train.shape)"
   ]
  },
  {
   "cell_type": "markdown",
   "metadata": {},
   "source": [
    "Again, note how feature values are shifted by one period between one observation and the next observation. "
   ]
  },
  {
   "cell_type": "code",
   "execution_count": 29,
   "metadata": {},
   "outputs": [
    {
     "data": {
      "text/plain": [
       "array([[0.27370381, 0.28942156, 0.28371118, 0.27234689, 0.259343  ,\n",
       "        0.28167578, 0.28913885, 0.2686719 , 0.26363992, 0.25917335,\n",
       "        0.28772543, 0.2778877 , 0.27065071, 0.2799796 , 0.27596536,\n",
       "        0.28133657, 0.29513198, 0.26578842, 0.26929379, 0.25860797,\n",
       "        0.27749189, 0.26454456],\n",
       "       [0.28942156, 0.28371118, 0.27234689, 0.259343  , 0.28167578,\n",
       "        0.28913885, 0.2686719 , 0.26363992, 0.25917335, 0.28772543,\n",
       "        0.2778877 , 0.27065071, 0.2799796 , 0.27596536, 0.28133657,\n",
       "        0.29513198, 0.26578842, 0.26929379, 0.25860797, 0.27749189,\n",
       "        0.26454456, 0.27794421]])"
      ]
     },
     "execution_count": 29,
     "metadata": {},
     "output_type": "execute_result"
    }
   ],
   "source": [
    "X_train[0:2,:,0]"
   ]
  },
  {
   "cell_type": "code",
   "execution_count": 143,
   "metadata": {},
   "outputs": [
    {
     "data": {
      "text/plain": [
       "array([[0.45582384],\n",
       "       [0.42542926],\n",
       "       [0.45412469],\n",
       "       ...,\n",
       "       [0.58174326],\n",
       "       [0.46507475],\n",
       "       [0.57844089]])"
      ]
     },
     "execution_count": 143,
     "metadata": {},
     "output_type": "execute_result"
    }
   ],
   "source": [
    "y_train"
   ]
  },
  {
   "cell_type": "markdown",
   "metadata": {},
   "source": [
    "Let us verify the sequential pattern in our data. To that end, we first append our target variable as a new column (after performing some reshaping to make that operation possible) and output a couple of values. "
   ]
  },
  {
   "cell_type": "code",
   "execution_count": 25,
   "metadata": {},
   "outputs": [
    {
     "data": {
      "text/plain": [
       "array([[0.43156475, 0.44043772, 0.41032639, 0.4848025 , 0.45072661,\n",
       "        0.48225385, 0.4408153 , 0.48933333, 0.44468545, 0.4354349 ,\n",
       "        0.48536884, 0.47951644, 0.39984875, 0.44921635, 0.42646752,\n",
       "        0.44761169, 0.50641844, 0.4546911 , 0.46394164, 0.48480242,\n",
       "        0.45695659, 0.44685644, 0.45582384],\n",
       "       [0.44043772, 0.41032639, 0.4848025 , 0.45072661, 0.48225385,\n",
       "        0.4408153 , 0.48933333, 0.44468545, 0.4354349 , 0.48536884,\n",
       "        0.47951644, 0.39984875, 0.44921635, 0.42646752, 0.44761169,\n",
       "        0.50641844, 0.4546911 , 0.46394164, 0.48480242, 0.45695659,\n",
       "        0.44685644, 0.45582384, 0.42542926],\n",
       "       [0.41032639, 0.4848025 , 0.45072661, 0.48225385, 0.4408153 ,\n",
       "        0.48933333, 0.44468545, 0.4354349 , 0.48536884, 0.47951644,\n",
       "        0.39984875, 0.44921635, 0.42646752, 0.44761169, 0.50641844,\n",
       "        0.4546911 , 0.46394164, 0.48480242, 0.45695659, 0.44685644,\n",
       "        0.45582384, 0.42542926, 0.45412469],\n",
       "       [0.4848025 , 0.45072661, 0.48225385, 0.4408153 , 0.48933333,\n",
       "        0.44468545, 0.4354349 , 0.48536884, 0.47951644, 0.39984875,\n",
       "        0.44921635, 0.42646752, 0.44761169, 0.50641844, 0.4546911 ,\n",
       "        0.46394164, 0.48480242, 0.45695659, 0.44685644, 0.45582384,\n",
       "        0.42542926, 0.45412469, 0.44827236],\n",
       "       [0.45072661, 0.48225385, 0.4408153 , 0.48933333, 0.44468545,\n",
       "        0.4354349 , 0.48536884, 0.47951644, 0.39984875, 0.44921635,\n",
       "        0.42646752, 0.44761169, 0.50641844, 0.4546911 , 0.46394164,\n",
       "        0.48480242, 0.45695659, 0.44685644, 0.45582384, 0.42542926,\n",
       "        0.45412469, 0.44827236, 0.42693959],\n",
       "       [0.48225385, 0.4408153 , 0.48933333, 0.44468545, 0.4354349 ,\n",
       "        0.48536884, 0.47951644, 0.39984875, 0.44921635, 0.42646752,\n",
       "        0.44761169, 0.50641844, 0.4546911 , 0.46394164, 0.48480242,\n",
       "        0.45695659, 0.44685644, 0.45582384, 0.42542926, 0.45412469,\n",
       "        0.44827236, 0.42693959, 0.4815931 ],\n",
       "       [0.4408153 , 0.48933333, 0.44468545, 0.4354349 , 0.48536884,\n",
       "        0.47951644, 0.39984875, 0.44921635, 0.42646752, 0.44761169,\n",
       "        0.50641844, 0.4546911 , 0.46394164, 0.48480242, 0.45695659,\n",
       "        0.44685644, 0.45582384, 0.42542926, 0.45412469, 0.44827236,\n",
       "        0.42693959, 0.4815931 , 0.42618442],\n",
       "       [0.48933333, 0.44468545, 0.4354349 , 0.48536884, 0.47951644,\n",
       "        0.39984875, 0.44921635, 0.42646752, 0.44761169, 0.50641844,\n",
       "        0.4546911 , 0.46394164, 0.48480242, 0.45695659, 0.44685644,\n",
       "        0.45582384, 0.42542926, 0.45412469, 0.44827236, 0.42693959,\n",
       "        0.4815931 , 0.42618442, 0.36964294],\n",
       "       [0.44468545, 0.4354349 , 0.48536884, 0.47951644, 0.39984875,\n",
       "        0.44921635, 0.42646752, 0.44761169, 0.50641844, 0.4546911 ,\n",
       "        0.46394164, 0.48480242, 0.45695659, 0.44685644, 0.45582384,\n",
       "        0.42542926, 0.45412469, 0.44827236, 0.42693959, 0.4815931 ,\n",
       "        0.42618442, 0.36964294, 0.46252573],\n",
       "       [0.4354349 , 0.48536884, 0.47951644, 0.39984875, 0.44921635,\n",
       "        0.42646752, 0.44761169, 0.50641844, 0.4546911 , 0.46394164,\n",
       "        0.48480242, 0.45695659, 0.44685644, 0.45582384, 0.42542926,\n",
       "        0.45412469, 0.44827236, 0.42693959, 0.4815931 , 0.42618442,\n",
       "        0.36964294, 0.46252573, 0.47243696]])"
      ]
     },
     "execution_count": 25,
     "metadata": {},
     "output_type": "execute_result"
    }
   ],
   "source": [
    "# Append the target variable to our array as a new column\n",
    "np.hstack([X_train, y_train.reshape([-1,1,1])])[0:10,:,0]"
   ]
  },
  {
   "cell_type": "markdown",
   "metadata": {},
   "source": [
    "Since we have only one variable, the price of the Amazon stock, our data fits into a 2D array. The column dimension of such an array stores the different lags of our (single) variable. \n",
    "The row dimension represents different observations or points in time. Here is an example:\n",
    "\n",
    "|t | $x_{t-1}$ |$x_{t-2}$ | $\\ldots$ |\n",
    "|---|---|---|---|\n",
    "|1        | 900 | 899| $\\ldots$|\n",
    "|2        | 905|900 | $\\ldots$|\n",
    "|$\\ldots$ | $\\ldots$| $\\ldots$ | $\\ldots$|\n",
    "\n"
   ]
  },
  {
   "cell_type": "markdown",
   "metadata": {},
   "source": [
    "If we had additional variables, each with a time stamp of its own, we would need a 2D table for each variable or put them into a 3D array [observations, time periods, features]. This is what tensorflow expects, so we'll reshape our 2D data to conform with the more general 3D case."
   ]
  },
  {
   "cell_type": "code",
   "execution_count": 35,
   "metadata": {},
   "outputs": [
    {
     "name": "stdout",
     "output_type": "stream",
     "text": [
      "(2191, 22, 1) (2191, 1) (531, 22, 1) (531, 1)\n"
     ]
    }
   ],
   "source": [
    "#Reshape input to be [samples, time steps, features]\n",
    "X_train  = np.reshape(X_train, (X_train.shape[0],X_train.shape[1], 1))\n",
    "X_test   = np.reshape(X_test, (X_test.shape[0],X_test.shape[1], 1))\n",
    "\n",
    "print(X_train.shape, y_train.shape,X_test.shape, y_test.shape)\n",
    "#Train set ended up with 1789 samples, 22 obs each and 1 feature"
   ]
  },
  {
   "cell_type": "markdown",
   "metadata": {},
   "source": [
    "The value 22, which was our _window size_ is probably the part most difficult to grasp. In a nutshell, we feed our RNN with subsets or slices of our time series. The window size determines the size of one such slice. We then interpret one slice as one observation, which resembles the non-recurrent, feedforward neural networks we considered before. There, one observation was something like one client or borrower, who was characterized by $m$ feature values. RNNs extend that idea. For each feature, we have a time series of which we feed the network slices. Let's examine this in more detail."
   ]
  },
  {
   "cell_type": "markdown",
   "metadata": {},
   "source": [
    "## Recurrent cells and networks"
   ]
  },
  {
   "cell_type": "markdown",
   "metadata": {},
   "source": [
    "A Recurrent Neural Network processes input variables at each time step and carries a representation of the current state forward.\n",
    "\n",
    "<img src=\"RNN_rollout_single.png\" />\n",
    "\n",
    "<img src=\"RNN_rollout_series.gif\" />\n",
    "\n",
    "Source: https://towardsdatascience.com/illustrated-guide-to-recurrent-neural-networks-79e5eb8049c9"
   ]
  },
  {
   "cell_type": "markdown",
   "metadata": {},
   "source": [
    "### RNN architecture\n",
    "<img src=\"RNN_update.png\" style=\"width: 500px;\"/>\n",
    "\n",
    "Source: https://humboldt-wi.github.io/blog/research/information_systems_1819/02lstmgruandbeyond/\n",
    "\n",
    "Remark: please ignore the use of the ReLu function in the output layer, which the picture suggests. The picture is taken from our blog where a RNN was used to predict a strictly positve quantity. In general, the output layer activation function depends on your modeling task. For example, we would use _softmax_ when facing a multi-class classification problem."
   ]
  },
  {
   "cell_type": "markdown",
   "metadata": {},
   "source": [
    "Let's assume we are able to remember one period back. When we woke up yesterday, we had available the price in period t-1. We processed the input available at that time $x_{t-1}$ and formed some impression of what is going on with the stock. We call this impression the hidden state, because it is not data that we have observed, but information that we keep in our mind. \n",
    "\n",
    "Today, we observe another price input $x_{t}$. We process this input and put it together with the impression that we had formed yesterday. We combine the old impression and new input to form a new impression of what is happening on the stock market at period t. \n",
    "\n",
    "We can make use of this impression, whenever someone asks us for a prediction of what is going to happen tomorrow $x_{t+1}$.\n",
    "\n",
    "We can express this model using three matrices: 1. an input matrix to process new information, 2. a hidden matrix to form a new impression given the previous impression and the processed new input, and 3. the output matrix to make a prediction from our current impression.\n",
    "$$ \\textrm{processed input} = W_{in} \\vec{x_{t}}+\\vec{b_{in}} $$\n",
    "\n",
    "$$\\vec{h_t} = tanh \\left( W_{h} \\vec{h_{t-1}}  + \\textrm{processed input} + \\vec{b_{h}} \\right)$$\n",
    "\n",
    "$$\\vec{y_{t+1}} = I(W_{out}\\vec{h_t} + \\vec{b_{out}} )$$"
   ]
  },
  {
   "cell_type": "markdown",
   "metadata": {},
   "source": [
    "In case we want to retain memory not only of the previous state but further in the past, we would need to introduce an additional input and hidden layer. The key concept is that we use the same values for all state transition layers $W_h, b_h$ and input layers $W_{in},b_{in}$. In principle, this allows us to make a prediction on a sequence of any number of inputs $x$.  \n",
    "\n",
    "<img src=\"RNN_update_series.png\" width=800/>"
   ]
  },
  {
   "cell_type": "markdown",
   "metadata": {},
   "source": [
    "Let's assume we have trained the network so that good values for the matrices $W_{in}$ and $W_h$ and the biases $b_{in}$ and $b_h$ are available. We will calculate a forward pass for a single observation 'by hand' in numpy, to be able to follow the process. "
   ]
  },
  {
   "cell_type": "code",
   "execution_count": 86,
   "metadata": {},
   "outputs": [],
   "source": [
    "# Dimension of hidden state\n",
    "NO_STATE_NODES = 5\n",
    "#Number of features. We are using a univariate time series, so the input dimension is 1\n",
    "INPUT_DIM = 1\n",
    "# Number of output variables that we want to predict.\n",
    "NO_OUTPUT_NODES = 1\n",
    "# Number of observations we process together \n",
    "BATCH_SIZE = 1"
   ]
  },
  {
   "cell_type": "markdown",
   "metadata": {},
   "source": [
    "Let's assume we have trained the network and good values for the matrices $W_{in}$ and $W_h$ and the biases $b_{in}$ and $b_h$. We will calculate a forward pass 'by hand' in numpy, to fully grasp \n",
    "the process. "
   ]
  },
  {
   "cell_type": "code",
   "execution_count": 88,
   "metadata": {},
   "outputs": [],
   "source": [
    "W_in  = np.random.randn(INPUT_DIM, NO_STATE_NODES) \n",
    "W_h   = np.random.randn(NO_STATE_NODES, NO_STATE_NODES)\n",
    "W_out = np.random.randn(NO_STATE_NODES, NO_OUTPUT_NODES) \n",
    "\n",
    "b_in  = np.random.randn(1, NO_STATE_NODES) \n",
    "b_h   = np.random.randn(1, NO_STATE_NODES) \n",
    "b_out = np.random.randn(1, NO_OUTPUT_NODES)"
   ]
  },
  {
   "cell_type": "markdown",
   "metadata": {},
   "source": [
    "Remember: The input matrix is the matrix of weights from the single input $x_t$ to NO_STATE_NODES hidden nodes. "
   ]
  },
  {
   "cell_type": "code",
   "execution_count": 89,
   "metadata": {},
   "outputs": [
    {
     "data": {
      "text/plain": [
       "array([[ 0.30177269, -0.83324346,  0.76846942, -0.42195204,  0.47290201]])"
      ]
     },
     "execution_count": 89,
     "metadata": {},
     "output_type": "execute_result"
    }
   ],
   "source": [
    "W_in"
   ]
  },
  {
   "cell_type": "markdown",
   "metadata": {},
   "source": [
    "The hidden state transformation matrix is the matrix that transforms the previous hidden state and new input to the new hidden state, both of dimension NO_STATE_NODES. "
   ]
  },
  {
   "cell_type": "code",
   "execution_count": 90,
   "metadata": {},
   "outputs": [
    {
     "data": {
      "text/plain": [
       "array([[-1.52713378, -0.91727227, -0.44965069, -0.72933725, -0.24062212],\n",
       "       [-0.62591206, -1.2107788 ,  1.16293646, -0.83408137, -0.2566952 ],\n",
       "       [ 0.85868274, -0.76506203, -0.20182928,  0.56537895,  1.17124769],\n",
       "       [ 1.24998719, -1.32485694, -0.78408613, -0.35235947,  0.15176396],\n",
       "       [ 0.52007194,  0.38607632, -0.48348774,  0.81423494,  0.0851447 ]])"
      ]
     },
     "execution_count": 90,
     "metadata": {},
     "output_type": "execute_result"
    }
   ],
   "source": [
    "W_h"
   ]
  },
  {
   "cell_type": "markdown",
   "metadata": {},
   "source": [
    "Since we haven't seen any input, we have not yet calculated a hidden state. We initialize the hidden state to 0."
   ]
  },
  {
   "cell_type": "code",
   "execution_count": 91,
   "metadata": {},
   "outputs": [
    {
     "data": {
      "text/plain": [
       "array([[0., 0., 0., 0., 0.]])"
      ]
     },
     "execution_count": 91,
     "metadata": {},
     "output_type": "execute_result"
    }
   ],
   "source": [
    "h_state = np.zeros([BATCH_SIZE, NO_STATE_NODES])\n",
    "h_state"
   ]
  },
  {
   "cell_type": "markdown",
   "metadata": {},
   "source": [
    "Training begins by drawing a minibatch of size BATCH_SIZE, where each row contains an ordered piece of the overall time series over INPUT_DIM (one or more) variables. In financial forecasting context, for example, you could try to predict the daily closing price of a stock at day $t+1$, $x_{t+1}$, from the five previous closing prices of that stock. So your input sequence is $\\left(x_{-4}, x_{t-3}, ..., x_t \\right)$, and this corresponds to one row in your input data. \n",
    "Remember that we have previously set the number of past realizations of our input variable, the window size, to 22."
   ]
  },
  {
   "cell_type": "code",
   "execution_count": 92,
   "metadata": {},
   "outputs": [
    {
     "name": "stdout",
     "output_type": "stream",
     "text": [
      "Dimension of the training data (samples, window size, features) : 2191x22x1\n",
      "Dimension of our minibatch : 1x22x1\n",
      "Corrected minibatch dimension: 1x22\n"
     ]
    },
    {
     "data": {
      "text/plain": [
       "array([[0.27370381, 0.28942156, 0.28371118, 0.27234689, 0.259343  ,\n",
       "        0.28167578, 0.28913885, 0.2686719 , 0.26363992, 0.25917335,\n",
       "        0.28772543, 0.2778877 , 0.27065071, 0.2799796 , 0.27596536,\n",
       "        0.28133657, 0.29513198, 0.26578842, 0.26929379, 0.25860797,\n",
       "        0.27749189, 0.26454456]])"
      ]
     },
     "execution_count": 92,
     "metadata": {},
     "output_type": "execute_result"
    }
   ],
   "source": [
    "# Always pay attention to dimensions...\n",
    "print('Dimension of the training data (samples, window size, features) :' , 'x'.join(map(str,X_train.shape)))\n",
    "minibatch = X_train[0:BATCH_SIZE,:,:]\n",
    "print('Dimension of our minibatch :' , 'x'.join(map(str,minibatch.shape)))\n",
    "minibatch = minibatch.reshape([-1, WINDOW_SIZE])\n",
    "print('Corrected minibatch dimension:' , 'x'.join(map(str,minibatch.shape)))\n",
    "\n",
    "minibatch"
   ]
  },
  {
   "cell_type": "markdown",
   "metadata": {},
   "source": [
    "### First input"
   ]
  },
  {
   "cell_type": "markdown",
   "metadata": {},
   "source": [
    "We then update the hidden state using our 'first' observation from t-WINDOW SIZE. More specifically, we first process the input according to: <br><br>$ \\textrm{processed input} = W_{in} \\vec{x_{t}}+\\vec{b_{in}} $"
   ]
  },
  {
   "cell_type": "code",
   "execution_count": 93,
   "metadata": {},
   "outputs": [],
   "source": [
    "first_input = minibatch[:,0:1] # in case you stumble upon the second index and would rather use 0 instead of 0:1, compare the shape of the results to see why we do it this way"
   ]
  },
  {
   "cell_type": "code",
   "execution_count": 94,
   "metadata": {},
   "outputs": [
    {
     "data": {
      "text/plain": [
       "array([[0.27370381]])"
      ]
     },
     "execution_count": 94,
     "metadata": {},
     "output_type": "execute_result"
    }
   ],
   "source": [
    "first_input"
   ]
  },
  {
   "cell_type": "code",
   "execution_count": 95,
   "metadata": {},
   "outputs": [],
   "source": [
    "proc_input = np.dot(first_input, W_in) + b_in"
   ]
  },
  {
   "cell_type": "code",
   "execution_count": 96,
   "metadata": {},
   "outputs": [
    {
     "name": "stdout",
     "output_type": "stream",
     "text": [
      "Processed input: 1x5\n"
     ]
    },
    {
     "data": {
      "text/plain": [
       "array([[-0.57427776, -1.21897043, -0.64081603, -0.91870643,  0.52742064]])"
      ]
     },
     "execution_count": 96,
     "metadata": {},
     "output_type": "execute_result"
    }
   ],
   "source": [
    "print('Processed input:' , 'x'.join(map(str,proc_input.shape)))\n",
    "proc_input"
   ]
  },
  {
   "cell_type": "markdown",
   "metadata": {},
   "source": [
    "... and use the result to update the hidden state <br>\n",
    "\n",
    "$\\vec{h_t} = tanh \\left( W_{h} \\vec{h_{t-1}}  + \\textrm{processed input} + \\vec{b_{h}} \\right)$"
   ]
  },
  {
   "cell_type": "code",
   "execution_count": 97,
   "metadata": {},
   "outputs": [
    {
     "data": {
      "text/plain": [
       "array([[-0.65699513, -0.87826072,  0.02063427, -0.55494431, -0.29328808]])"
      ]
     },
     "execution_count": 97,
     "metadata": {},
     "output_type": "execute_result"
    }
   ],
   "source": [
    "h_state_new = np.tanh( np.dot(h_state, W_h) + proc_input + b_h )\n",
    "h_state_new"
   ]
  },
  {
   "cell_type": "code",
   "execution_count": 98,
   "metadata": {},
   "outputs": [
    {
     "data": {
      "text/plain": [
       "array([[0., 0., 0., 0., 0.]])"
      ]
     },
     "execution_count": 98,
     "metadata": {},
     "output_type": "execute_result"
    }
   ],
   "source": [
    "h_state"
   ]
  },
  {
   "cell_type": "code",
   "execution_count": 99,
   "metadata": {},
   "outputs": [],
   "source": [
    "h_state = h_state_new"
   ]
  },
  {
   "cell_type": "markdown",
   "metadata": {},
   "source": [
    "The new values of the hidden state make up our memory of the first observation. "
   ]
  },
  {
   "cell_type": "markdown",
   "metadata": {},
   "source": [
    "### Second input"
   ]
  },
  {
   "cell_type": "markdown",
   "metadata": {},
   "source": [
    "We then update the hidden state given the next observation from t-21; re-using the input weights that we used for the first observation. Remember, in an RNN, the input to hidden matrix $W_{in}$ is shared across the inputs. "
   ]
  },
  {
   "cell_type": "code",
   "execution_count": 100,
   "metadata": {},
   "outputs": [],
   "source": [
    "second_input = minibatch[:,1:2]"
   ]
  },
  {
   "cell_type": "code",
   "execution_count": 101,
   "metadata": {},
   "outputs": [
    {
     "data": {
      "text/plain": [
       "array([[0.28942156]])"
      ]
     },
     "execution_count": 101,
     "metadata": {},
     "output_type": "execute_result"
    }
   ],
   "source": [
    "second_input"
   ]
  },
  {
   "cell_type": "markdown",
   "metadata": {},
   "source": [
    "The next steps are exactly as before."
   ]
  },
  {
   "cell_type": "code",
   "execution_count": 102,
   "metadata": {},
   "outputs": [],
   "source": [
    "proc_input = np.dot(second_input, W_in) + b_in # process the input\n",
    "h_state_new = np.tanh( np.dot(h_state, W_h) + proc_input + b_h ) # compute the new hidden state"
   ]
  },
  {
   "cell_type": "markdown",
   "metadata": {},
   "source": [
    "Note that in the above calculation, unlike in the first step, our hidden state was not zero! Rather it contains our memory of the first input and we literally add the new information to our memory. "
   ]
  },
  {
   "cell_type": "code",
   "execution_count": 103,
   "metadata": {},
   "outputs": [
    {
     "data": {
      "text/plain": [
       "array([[-0.0581518 ,  0.71189717, -0.11988718,  0.49900673,  0.00378116]])"
      ]
     },
     "execution_count": 103,
     "metadata": {},
     "output_type": "execute_result"
    }
   ],
   "source": [
    "h_state = h_state_new\n",
    "h_state"
   ]
  },
  {
   "cell_type": "markdown",
   "metadata": {},
   "source": [
    "Our new memory state now contains information from the first and second input. "
   ]
  },
  {
   "cell_type": "markdown",
   "metadata": {},
   "source": [
    "### Making a prediction"
   ]
  },
  {
   "cell_type": "markdown",
   "metadata": {},
   "source": [
    "We can make a prediction based on the hidden state at any time. <br>\n",
    "$\\vec{y_{t+1}} = I(W_{out}\\vec{h_t} + \\vec{b_{out}} )$"
   ]
  },
  {
   "cell_type": "code",
   "execution_count": 104,
   "metadata": {},
   "outputs": [],
   "source": [
    "output = np.dot(h_state, W_out) + b_out"
   ]
  },
  {
   "cell_type": "code",
   "execution_count": 105,
   "metadata": {},
   "outputs": [
    {
     "data": {
      "text/plain": [
       "array([[-0.11866807]])"
      ]
     },
     "execution_count": 105,
     "metadata": {},
     "output_type": "execute_result"
    }
   ],
   "source": [
    "output"
   ]
  },
  {
   "cell_type": "markdown",
   "metadata": {},
   "source": [
    "For comparison, here's the next value in the time series:"
   ]
  },
  {
   "cell_type": "code",
   "execution_count": 106,
   "metadata": {},
   "outputs": [
    {
     "data": {
      "text/plain": [
       "array([[0.28371118]])"
      ]
     },
     "execution_count": 106,
     "metadata": {},
     "output_type": "execute_result"
    }
   ],
   "source": [
    "minibatch[:,2:3]"
   ]
  },
  {
   "cell_type": "markdown",
   "metadata": {},
   "source": [
    "Pretty far off! Based on the prediction and true value, we could now apply our loss function, backpropagate the error and update the weights based on their negative gradient. "
   ]
  },
  {
   "cell_type": "markdown",
   "metadata": {},
   "source": [
    "## RNN as a loop "
   ]
  },
  {
   "cell_type": "markdown",
   "metadata": {},
   "source": [
    "Looking at the code above, we see that we are applying the same operations to each of the inputs iteratively. That is a process that we can simplify by expressing it as a loop. For each new input, the input is processed and the hidden state updated using the same matrices.\n",
    "\n",
    "<img src=\"RNN_Loop.png\" style=\"width: 500px;\"/>\n",
    "\n"
   ]
  },
  {
   "cell_type": "markdown",
   "metadata": {},
   "source": [
    "Reset the state to the initial zero state"
   ]
  },
  {
   "cell_type": "code",
   "execution_count": 73,
   "metadata": {},
   "outputs": [
    {
     "data": {
      "text/plain": [
       "array([[0., 0., 0., 0., 0.]])"
      ]
     },
     "execution_count": 73,
     "metadata": {},
     "output_type": "execute_result"
    }
   ],
   "source": [
    "h_state = np.zeros([BATCH_SIZE, NO_STATE_NODES])\n",
    "h_state"
   ]
  },
  {
   "cell_type": "markdown",
   "metadata": {},
   "source": [
    "Process the inputs iteratively, each time updating the hidden state"
   ]
  },
  {
   "cell_type": "code",
   "execution_count": 74,
   "metadata": {},
   "outputs": [
    {
     "data": {
      "text/plain": [
       "(1, 22)"
      ]
     },
     "execution_count": 74,
     "metadata": {},
     "output_type": "execute_result"
    },
    {
     "data": {
      "text/plain": [
       "array([[0.27370381, 0.28942156, 0.28371118, 0.27234689, 0.259343  ,\n",
       "        0.28167578, 0.28913885, 0.2686719 , 0.26363992, 0.25917335,\n",
       "        0.28772543, 0.2778877 , 0.27065071, 0.2799796 , 0.27596536,\n",
       "        0.28133657, 0.29513198, 0.26578842, 0.26929379, 0.25860797,\n",
       "        0.27749189, 0.26454456]])"
      ]
     },
     "execution_count": 74,
     "metadata": {},
     "output_type": "execute_result"
    }
   ],
   "source": [
    "# Recall how we extracted the minibatch from our training data\n",
    "minibatch = X_train[0:BATCH_SIZE,:,:].reshape([-1, WINDOW_SIZE])\n",
    "minibatch.shape\n",
    "minibatch"
   ]
  },
  {
   "cell_type": "code",
   "execution_count": 75,
   "metadata": {},
   "outputs": [
    {
     "name": "stdout",
     "output_type": "stream",
     "text": [
      "Processing input: 0\n",
      "Processing input: 1\n",
      "Processing input: 2\n",
      "Processing input: 3\n",
      "Processing input: 4\n",
      "Processing input: 5\n",
      "Processing input: 6\n",
      "Processing input: 7\n",
      "Processing input: 8\n",
      "Processing input: 9\n",
      "Processing input: 10\n",
      "Processing input: 11\n",
      "Processing input: 12\n",
      "Processing input: 13\n",
      "Processing input: 14\n",
      "Processing input: 15\n",
      "Processing input: 16\n",
      "Processing input: 17\n",
      "Processing input: 18\n",
      "Processing input: 19\n",
      "Processing input: 20\n",
      "Processing input: 21\n"
     ]
    }
   ],
   "source": [
    "for t in range(0, WINDOW_SIZE):\n",
    "    print(f\"Processing input: {t}\")\n",
    "    \n",
    "    iteration_input = minibatch[:,t:t+1] # Remember python indexing [a:b-1]\n",
    "\n",
    "    proc_input = np.dot(iteration_input, W_in) + b_in\n",
    "\n",
    "    h_state = np.tanh( np.dot(h_state, W_h) + proc_input + b_h )\n",
    "    "
   ]
  },
  {
   "cell_type": "markdown",
   "metadata": {},
   "source": [
    "Make a prediction using the final hidden state."
   ]
  },
  {
   "cell_type": "code",
   "execution_count": 76,
   "metadata": {},
   "outputs": [
    {
     "data": {
      "text/plain": [
       "array([[-0.92906901,  0.99991344, -0.23176173, -0.99995417, -0.96051534]])"
      ]
     },
     "execution_count": 76,
     "metadata": {},
     "output_type": "execute_result"
    }
   ],
   "source": [
    "h_state"
   ]
  },
  {
   "cell_type": "code",
   "execution_count": 77,
   "metadata": {},
   "outputs": [
    {
     "data": {
      "text/plain": [
       "array([[0.68678299]])"
      ]
     },
     "execution_count": 77,
     "metadata": {},
     "output_type": "execute_result"
    }
   ],
   "source": [
    "output = np.dot(h_state, W_out) + b_out\n",
    "output"
   ]
  },
  {
   "cell_type": "code",
   "execution_count": 78,
   "metadata": {},
   "outputs": [
    {
     "data": {
      "text/plain": [
       "array([[0.27794421]])"
      ]
     },
     "execution_count": 78,
     "metadata": {},
     "output_type": "execute_result"
    }
   ],
   "source": [
    "# Compare the the target variable\n",
    "y_train[0:BATCH_SIZE]"
   ]
  },
  {
   "cell_type": "markdown",
   "metadata": {},
   "source": [
    "This completes our example of calculating the forward pass through an RNN 'by hand'. Of course, our network is still useless for prediction because we have not trained the parameters. But let's move on with revisting the forward pass in a more sophisticated network, the LSTM."
   ]
  },
  {
   "cell_type": "markdown",
   "metadata": {},
   "source": [
    "## 3. Long short-term memory"
   ]
  },
  {
   "cell_type": "markdown",
   "metadata": {},
   "source": [
    "RNNs have trouble learning long-term dependencies due to the vanishing gradient problem discussed in class. Long short-term memory cells are designed to mitigate the vanishing gradient problem. "
   ]
  },
  {
   "cell_type": "markdown",
   "metadata": {},
   "source": [
    "<img src=\"lstm_3.svg\" />\n",
    "\n",
    "Source: Dive into Deep Learning http://d2l.ai/chapter_recurrent-modern/lstm.html"
   ]
  },
  {
   "cell_type": "markdown",
   "metadata": {},
   "source": [
    "The architecture of LSTM nodes can be daunting at first, so we will look at the pieces one by one. See the line that passes from state to state at the top with a plus in the middle? That's the hidden state and we see that the input information $x_t$ gets added to it after being processed in a more complex way. Imagine the hidden state is our long-term memory that stores information that may not be immediatly useful. \n",
    "\n",
    "Before information is added to the hidden state, the hidden state gets multiplied by the output of a sigmoid activated layer. We call this layer the **forget gate**, because it reduces some values of the hidden state by multiplying them with a value between 0 and 1.\n",
    "\n",
    "The input that is added to the hidden state is processed in two steps, which make up the **input gate**. The tanh activated layer processes and transforms the information. Almost as in our RNN, although the input processing in our RNN did not use an activation after the input layer. The processed input is multiplied with another sigmoid activated layer, just like in the forget gate. And just like in the forget gate, the sigmoid layer here determines which parts of the processed input will be added to the hidden state and which will be forgotten.     \n",
    "\n",
    "To the right, we see that the hidden state is passed on in two ways. On the upper level, it gets passed on as the hidden state. On the lower level, it is put through a tanh activation and filtered by yet another sigmoid layer. The result of this **output gate** passed on as the output at time step $t$ and passed on to be combined with the input of the next time step $t+1$. Image the output state that is passed on as our short-term memory."
   ]
  },
  {
   "cell_type": "markdown",
   "metadata": {},
   "source": [
    "### Step-by-step LSTM"
   ]
  },
  {
   "cell_type": "markdown",
   "metadata": {},
   "source": [
    "Our LSTM is to process input data of the form $ X_t \\in \\mathbb{R} ^{n\\times d}$, where $n$ is the size of the mini-batch and $d$ the input dimensions. We use the same settings as in the RNN demo and set $n=1, d=1$."
   ]
  },
  {
   "cell_type": "code",
   "execution_count": 256,
   "metadata": {},
   "outputs": [],
   "source": [
    "BATCH_SIZE = 1\n",
    "INPUT_DIM = 1"
   ]
  },
  {
   "cell_type": "markdown",
   "metadata": {},
   "source": [
    "We will further assume that the we are interested in predicting a scalar value such as the stock price one day ahead, and thus set the number of nodes in the output layer to one."
   ]
  },
  {
   "cell_type": "code",
   "execution_count": 257,
   "metadata": {},
   "outputs": [],
   "source": [
    "NO_OUTPUT_NODES = 1"
   ]
  },
  {
   "cell_type": "markdown",
   "metadata": {},
   "source": [
    "For the number of nodes in the hidden state, we also consider the same setting of $h=5$ as in the RNN demo. "
   ]
  },
  {
   "cell_type": "code",
   "execution_count": 258,
   "metadata": {},
   "outputs": [],
   "source": [
    "NO_STATE_NODES = 5"
   ]
  },
  {
   "cell_type": "markdown",
   "metadata": {},
   "source": [
    "With these settings, we can start with defining the data structures for our LSTM. These are the hidden state matrix $H_t \\in \\mathbb{R} ^{n\\times h} $, the input gate $I_t \\in \\mathbb{R} ^{n\\times h} $, the forget gate $F_t \\in \\mathbb{R} ^{n\\times h} $, and the output gate $O_t \\in \\mathbb{R} ^{n\\times h} $.\n",
    "<br>\n",
    "We also need a couple of weight matrices $W$ and biases $b$ to compute the values of the gates as follows:\n",
    "$$ I_t = \\sigma \\left( X_t W_{xi} + H_{t-1}W_{hi} + b_i \\right) $$\n",
    "$$ F_t = \\sigma \\left( X_t W_{xf} + H_{t-1}W_{hf} + b_f \\right) $$\n",
    "$$ O_t = \\sigma \\left( X_t W_{xo} + H_{t-1}W_{ho} + b_o \\right) $$\n",
    "<br>\n",
    "where $W_{xi}, W_{xf}, W_{xo} \\in \\mathbb{R} ^{d\\times h}$ and $W_{hi}, W_{hf}, W_{ho} \\in \\mathbb{R} ^{h\\times h}$ denote the weight matrices and $b_i, b_f, b_o \\in \\mathbb{R}^{1\\times h}$ the biases. \n",
    "\n",
    "<br>In order to compute predictions from our LSTM, we need yet another set of parameters, $W_{hy} \\in \\mathbb{R}^{h\\times c}$ and $b_{y} \\in \\mathbb{R}^{2\\times c}$, where $c$ denotes the number of output units. The prediction equation, \n",
    "with $g(\\cdot)$ denoting the output layer activation function, is then: \n",
    "$$Y_t = g \\left( H_tW_{hy} + b_y\\right) $$ \n",
    "\n",
    "Many parameters to initialize.  Let's go."
   ]
  },
  {
   "cell_type": "code",
   "execution_count": 322,
   "metadata": {},
   "outputs": [],
   "source": [
    "# Define two anonymous functions to simplify the code\n",
    "init_x = lambda: np.random.randn(INPUT_DIM, NO_STATE_NODES)\n",
    "init_h = lambda: np.random.randn(NO_STATE_NODES, NO_STATE_NODES)\n",
    "\n",
    "# Initialize weight matrices\n",
    "W_xi, W_xf, W_xo = init_x(), init_x(), init_x() \n",
    "W_hi, W_hf, W_ho = init_h(), init_h(), init_h()\n",
    "\n",
    "# Initialize biases\n",
    "b_i = np.zeros(NO_STATE_NODES)\n",
    "b_f = np.zeros(NO_STATE_NODES)\n",
    "b_o = np.zeros(NO_STATE_NODES)\n",
    "\n",
    "W_hy = np.random.randn(NO_STATE_NODES, NO_OUTPUT_NODES)\n",
    "b_y = np.zeros(NO_OUTPUT_NODES)\n",
    "\n",
    "# And finally we have the hidden state, which we initialize to zero\n",
    "H = np.zeros(NO_STATE_NODES) # Since our hidden state gets update, we drop the 'index' t"
   ]
  },
  {
   "cell_type": "markdown",
   "metadata": {},
   "source": [
    "Recall that the LSTM maintains a seperate cell memory, $C_t \\in \\mathbb{R}^{n\\times h}$, in addition to the hidden state. We will also compute a candidate value of the new cell state, denoted by $\\tilde{C_t}$. Finally, we need a new set of weights and biases to compute the new candidate memory as:\n",
    "$$ \\tilde{C}_t = tanH \\left( X_tW_{xc} + H_{t-1}W_{hc} + b_c\\right) $$\n",
    "\n",
    "where $W_{xc} \\in \\mathbb{R}^{d \\times h}, W_{hc} \\in \\mathbb{R}^{h \\times h}, b_c  \\in \\mathbb{R}^{1 \\times h}$. <br>\n",
    "Here is the code to initialize the cell memory and its associated parameters."
   ]
  },
  {
   "cell_type": "code",
   "execution_count": 323,
   "metadata": {},
   "outputs": [],
   "source": [
    "# (Candidate) Cell memory\n",
    "C_tilde = C =  np.zeros((BATCH_SIZE, NO_STATE_NODES))\n",
    "\n",
    "# Parameters related to the cell memory\n",
    "W_xc = np.random.randn(INPUT_DIM, NO_STATE_NODES)\n",
    "W_hc = np.random.randn(NO_STATE_NODES, NO_STATE_NODES)\n",
    "b_c = np.zeros(NO_STATE_NODES)"
   ]
  },
  {
   "cell_type": "markdown",
   "metadata": {},
   "source": [
    "The actual processing is similar to the previous LSTM example. We begin with the first point in our input sequence, which is $X_{t-22}$ in our example, put it into our LSTM cell, perform all the internal computations to update our hidden state and the cell memory, and then proceed with the next point. So we first extract the minibatch of data."
   ]
  },
  {
   "cell_type": "code",
   "execution_count": 324,
   "metadata": {},
   "outputs": [
    {
     "data": {
      "text/plain": [
       "array([[0.43156475, 0.44043772, 0.41032639, 0.4848025 , 0.45072661,\n",
       "        0.48225385, 0.4408153 , 0.48933333, 0.44468545, 0.4354349 ,\n",
       "        0.48536884, 0.47951644, 0.39984875, 0.44921635, 0.42646752,\n",
       "        0.44761169, 0.50641844, 0.4546911 , 0.46394164, 0.48480242,\n",
       "        0.45695659, 0.44685644]])"
      ]
     },
     "execution_count": 324,
     "metadata": {},
     "output_type": "execute_result"
    }
   ],
   "source": [
    "minibatch = X_train[0:BATCH_SIZE,:,:].reshape([-1,22]) # reshaping as in the RNN case\n",
    "minibatch"
   ]
  },
  {
   "cell_type": "markdown",
   "metadata": {},
   "source": [
    "We then start with the first value and compute the gates."
   ]
  },
  {
   "cell_type": "code",
   "execution_count": 325,
   "metadata": {},
   "outputs": [
    {
     "data": {
      "text/plain": [
       "array([[0.43156475]])"
      ]
     },
     "execution_count": 325,
     "metadata": {},
     "output_type": "execute_result"
    }
   ],
   "source": [
    "X = minibatch[:,0:1]\n",
    "X"
   ]
  },
  {
   "cell_type": "markdown",
   "metadata": {},
   "source": [
    "#### Input gate\n",
    "$ I_t = \\sigma \\left( X_t W_{xi} + H_{t-1}W_{hi} + b_i \\right) $"
   ]
  },
  {
   "cell_type": "code",
   "execution_count": 326,
   "metadata": {},
   "outputs": [
    {
     "data": {
      "text/plain": [
       "array([[0.55874923, 0.47659358, 0.42502789, 0.4739991 , 0.68548009]])"
      ]
     },
     "execution_count": 326,
     "metadata": {},
     "output_type": "execute_result"
    }
   ],
   "source": [
    "I = sigmoid(np.dot(X, W_xi) + np.dot(H, W_hi) + b_i )\n",
    "I"
   ]
  },
  {
   "cell_type": "markdown",
   "metadata": {},
   "source": [
    "#### Forget gate\n",
    "$ F_t = \\sigma \\left( X_t W_{xf} + H_{t-1}W_{hf} + b_f \\right) $"
   ]
  },
  {
   "cell_type": "code",
   "execution_count": 327,
   "metadata": {},
   "outputs": [
    {
     "data": {
      "text/plain": [
       "array([[0.51082297, 0.45848209, 0.27505825, 0.42493763, 0.5860054 ]])"
      ]
     },
     "execution_count": 327,
     "metadata": {},
     "output_type": "execute_result"
    }
   ],
   "source": [
    "F = sigmoid(np.dot(X, W_xf) + np.dot(H, W_hf) + b_f )\n",
    "F"
   ]
  },
  {
   "cell_type": "markdown",
   "metadata": {},
   "source": [
    "#### Output gate\n",
    "$ O_t = \\sigma \\left( X_t W_{xo} + H_{t-1}W_{ho} + b_0 \\right) $"
   ]
  },
  {
   "cell_type": "code",
   "execution_count": 328,
   "metadata": {},
   "outputs": [
    {
     "data": {
      "text/plain": [
       "array([[0.40715957, 0.49667334, 0.43832617, 0.33937036, 0.43030119]])"
      ]
     },
     "execution_count": 328,
     "metadata": {},
     "output_type": "execute_result"
    }
   ],
   "source": [
    "O = sigmoid(np.dot(X, W_xo) + np.dot(H, W_ho) + b_o )\n",
    "O"
   ]
  },
  {
   "cell_type": "markdown",
   "metadata": {},
   "source": [
    "#### Cell state\n",
    "Next, we can proceed with computing our new candidate memory: $ \\tilde{C}_t = tanH \\left( X_tW_{xc} + H_{t-1}W_{hc} + b_c\\right) $, "
   ]
  },
  {
   "cell_type": "code",
   "execution_count": 329,
   "metadata": {},
   "outputs": [
    {
     "data": {
      "text/plain": [
       "array([[ 0.49420853,  0.39195945,  0.29502455, -0.10569336,  0.69040502]])"
      ]
     },
     "execution_count": 329,
     "metadata": {},
     "output_type": "execute_result"
    }
   ],
   "source": [
    "C_tilde = np.tanh(np.dot(X,W_xc) + np.dot(H,W_hc) + b_c)\n",
    "C_tilde"
   ]
  },
  {
   "cell_type": "markdown",
   "metadata": {},
   "source": [
    "which, in turn, allows us to update the cell memory according to: $C_t = F_t \\odot C_{t-1} + I_t \\odot \\tilde{C}_t$"
   ]
  },
  {
   "cell_type": "code",
   "execution_count": 330,
   "metadata": {},
   "outputs": [
    {
     "data": {
      "text/plain": [
       "array([[ 0.27613864,  0.18680536,  0.12539366, -0.05009856,  0.47325889]])"
      ]
     },
     "execution_count": 330,
     "metadata": {},
     "output_type": "execute_result"
    }
   ],
   "source": [
    "C = F * C + I * C_tilde\n",
    "C"
   ]
  },
  {
   "cell_type": "markdown",
   "metadata": {},
   "source": [
    "and finally our hidden state: $H_t = O_t \\odot tanH \\left(C_t \\right)$"
   ]
  },
  {
   "cell_type": "code",
   "execution_count": 331,
   "metadata": {},
   "outputs": [],
   "source": [
    "H = O * np.tanh(C)"
   ]
  },
  {
   "cell_type": "markdown",
   "metadata": {},
   "source": [
    "We would proceed with repeating the process using the next elements of our input, that is time-lagged observations $x_{t-21}, x_{t-20}, ..., x_{t}$ and update the state of our LSTM cell, as represented by its memory and hidden state. At any point in time, we could make a prediction using the current hidden state.\n",
    "#### Make a prediction"
   ]
  },
  {
   "cell_type": "code",
   "execution_count": 339,
   "metadata": {},
   "outputs": [
    {
     "data": {
      "text/plain": [
       "array([[0.24769443]])"
      ]
     },
     "execution_count": 339,
     "metadata": {},
     "output_type": "execute_result"
    }
   ],
   "source": [
    "Yhat = np.dot(H, W_hy) + b_y\n",
    "Yhat"
   ]
  },
  {
   "cell_type": "markdown",
   "metadata": {},
   "source": [
    "This completes our journey through coding the forward pass in a LSTM \"by hand\". For comparison purpose, we could look at the next value in our time series to assess the previous prediction. "
   ]
  },
  {
   "cell_type": "code",
   "execution_count": 341,
   "metadata": {},
   "outputs": [
    {
     "data": {
      "text/plain": [
       "array([[0.43156475, 0.44043772, 0.41032639, 0.4848025 , 0.45072661,\n",
       "        0.48225385, 0.4408153 , 0.48933333, 0.44468545, 0.4354349 ,\n",
       "        0.48536884, 0.47951644, 0.39984875, 0.44921635, 0.42646752,\n",
       "        0.44761169, 0.50641844, 0.4546911 , 0.46394164, 0.48480242,\n",
       "        0.45695659, 0.44685644]])"
      ]
     },
     "execution_count": 341,
     "metadata": {},
     "output_type": "execute_result"
    },
    {
     "data": {
      "text/plain": [
       "array([[0.44043772]])"
      ]
     },
     "execution_count": 341,
     "metadata": {},
     "output_type": "execute_result"
    }
   ],
   "source": [
    "minibatch\n",
    "minibatch[:,1:2]"
   ]
  },
  {
   "cell_type": "markdown",
   "metadata": {},
   "source": [
    "Apparently, our prediction is pretty far off. That should not come as a surprise since we did not train our LSTM. \n",
    "Based on the prediction and the true value, we could apply our loss function, backpropagate the error and update the weights based on their negative gradient. \n",
    "Backpropagation for RNNs and LSTMs works exactly as backpropagation for other neural network architectures on the *unrolled* neural network graph (the one without the loop). It is not easy to work out on your own though. A step-by-step walkthrough is available on our blog if you are intersted https://humboldt-wi.github.io/blog/research/information_systems_1819/02lstmgruandbeyond/"
   ]
  },
  {
   "cell_type": "markdown",
   "metadata": {},
   "source": [
    "## Concluding remarks and notes\n",
    "\n",
    "### Notation\n",
    "The notation we used for the LSTM follow the lecture slides and draws upon chapter 9.2 of [Dive into Deep Learning (D2L)](http://d2l.ai/chapter_recurrent-modern/lstm.html). When it comes to LSTM, [colah's blog post on Understanding LSTM Networks](http://colah.github.io/posts/2015-08-Understanding-LSTMs/) is maybe the most famous source. I highly recommend reading the post, and when you do, please note that it uses a slightly different notation. Consider for example our input gate, which we defined as $ I_t = \\sigma \\left( X_t W_{xi} + H_{t-1}W_{hi} + b_i \\right) $. Colah's blog defines the same gate as $ I_t = \\sigma \\left( W_i \\left[ X_t, H_{t-1} \\right] +b_i \\right) $; same for other gates. Notation can be confusing when it differs across sources. Since Colah's blog is so popular, it is useful to see the equivalence between the two versions. The blog post assumes we concatenate the current input with the hidden state matrix of the previous step and then apply **one weight matrix** $W_i$. We, on the other hand, following D2L, consider **two weight matrices** $W_{xi}$ and $W_{hi}$ for the gates. You can easly convince yourself that both versions are equivalent. While writing down the mathematical notation is a bit tedious a little bit of numpy might just do the trick. "
   ]
  },
  {
   "cell_type": "code",
   "execution_count": 383,
   "metadata": {},
   "outputs": [
    {
     "data": {
      "text/plain": [
       "array([[ 0.54704984, -0.21710338, -0.70016552, -0.24120945,  1.80522633]])"
      ]
     },
     "execution_count": 383,
     "metadata": {},
     "output_type": "execute_result"
    },
    {
     "data": {
      "text/plain": [
       "array([[0.43156475]])"
      ]
     },
     "execution_count": 383,
     "metadata": {},
     "output_type": "execute_result"
    },
    {
     "data": {
      "text/plain": [
       "array([[-2.27597094, -0.43905292,  0.96114809, -1.15823615,  0.36033901],\n",
       "       [ 0.45803993,  0.45913319,  0.30353169,  0.80894372, -1.19915352],\n",
       "       [ 0.74931158,  0.58595352, -0.79500301,  0.50994997,  0.87813892],\n",
       "       [-0.46724221,  0.85630467, -0.94040918,  0.68055984, -0.04194861],\n",
       "       [-0.9980872 ,  2.28224408, -1.11256703, -1.52286635,  0.84388688]])"
      ]
     },
     "execution_count": 383,
     "metadata": {},
     "output_type": "execute_result"
    },
    {
     "data": {
      "text/plain": [
       "array([[ 0.10965929,  0.09171686,  0.05467705, -0.01698776,  0.18968911]])"
      ]
     },
     "execution_count": 383,
     "metadata": {},
     "output_type": "execute_result"
    }
   ],
   "source": [
    "# This is what we consider\n",
    "W_xi\n",
    "X\n",
    "W_hi\n",
    "H"
   ]
  },
  {
   "cell_type": "code",
   "execution_count": 381,
   "metadata": {},
   "outputs": [
    {
     "data": {
      "text/plain": [
       "array([[ 0.43156475,  0.10965929,  0.09171686,  0.05467705, -0.01698776,\n",
       "         0.18968911]])"
      ]
     },
     "execution_count": 381,
     "metadata": {},
     "output_type": "execute_result"
    },
    {
     "data": {
      "text/plain": [
       "array([[ 0.54704984, -0.21710338, -0.70016552, -0.24120945,  1.80522633],\n",
       "       [-2.27597094, -0.43905292,  0.96114809, -1.15823615,  0.36033901],\n",
       "       [ 0.45803993,  0.45913319,  0.30353169,  0.80894372, -1.19915352],\n",
       "       [ 0.74931158,  0.58595352, -0.79500301,  0.50994997,  0.87813892],\n",
       "       [-0.46724221,  0.85630467, -0.94040918,  0.68055984, -0.04194861],\n",
       "       [-0.9980872 ,  2.28224408, -1.11256703, -1.52286635,  0.84388688]])"
      ]
     },
     "execution_count": 381,
     "metadata": {},
     "output_type": "execute_result"
    }
   ],
   "source": [
    "# This is what Colah's blog considers\n",
    "np.hstack((X, H))\n",
    "np.vstack((W_xi, W_hi))"
   ]
  },
  {
   "cell_type": "code",
   "execution_count": 384,
   "metadata": {},
   "outputs": [
    {
     "data": {
      "text/plain": [
       "array([[0.00000000e+00, 0.00000000e+00, 0.00000000e+00, 0.00000000e+00,\n",
       "        1.11022302e-16]])"
      ]
     },
     "execution_count": 384,
     "metadata": {},
     "output_type": "execute_result"
    }
   ],
   "source": [
    "# And yes, it is the same\n",
    "d2l = np.dot(X, W_xi) + np.dot(H, W_hi)\n",
    "colah = np.dot(np.hstack((X, H)), np.vstack((W_xi, W_hi)))\n",
    "d2l-colah"
   ]
  },
  {
   "cell_type": "markdown",
   "metadata": {},
   "source": [
    "### Why Tanh activation?"
   ]
  },
  {
   "cell_type": "markdown",
   "metadata": {},
   "source": [
    "The original RNN uses tanh rather than the - at that time typical - sigmoid activation, because the tanh gradient lies in [0;1] rather than [0; .25]. Increasing the values of the activation function derivatives helps mitigate the vanishing gradient problem for lower layers and helps control the size of values in the hidden state. "
   ]
  },
  {
   "cell_type": "code",
   "execution_count": 373,
   "metadata": {},
   "outputs": [
    {
     "data": {
      "image/png": "[encoded data removed]",
      "text/plain": [
       "<Figure size 432x288 with 1 Axes>"
      ]
     },
     "metadata": {
      "needs_background": "light"
     },
     "output_type": "display_data"
    }
   ],
   "source": [
    "in_array = np.linspace(-np.pi, np.pi, 120) \n",
    "\n",
    "tan_h = np.tanh(in_array) \n",
    "sig = sigmoid(in_array)  \n",
    " \n",
    "plt.plot(in_array, tan_h, color = 'red', label='tanH')\n",
    "plt.plot(in_array, 1-tan_h**2, linestyle=':', color = 'red', label=\"tanH'\")\n",
    "plt.plot(in_array, sig, color = 'blue', label='sigmoid')\n",
    "plt.plot(in_array, sig*(1-sig), linestyle=':', color = 'blue',  label=\"sigmoid'\")\n",
    "plt.xlabel(\"X\") \n",
    "plt.ylabel(\"Y\") \n",
    "plt.legend(loc='best')\n",
    "plt.show();"
   ]
  }
 ],
 "metadata": {
  "kernelspec": {
   "display_name": "PyCharm (adams)",
   "language": "python",
   "name": "pycharm-feb95198"
  },
  "language_info": {
   "codemirror_mode": {
    "name": "ipython",
    "version": 3
   },
   "file_extension": ".py",
   "mimetype": "text/x-python",
   "name": "python",
   "nbconvert_exporter": "python",
   "pygments_lexer": "ipython3",
   "version": "3.7.6"
  },
  "pycharm": {
   "stem_cell": {
    "cell_type": "raw",
    "metadata": {
     "collapsed": false
    },
    "source": []
   }
  }
 },
 "nbformat": 4,
 "nbformat_minor": 4
}
